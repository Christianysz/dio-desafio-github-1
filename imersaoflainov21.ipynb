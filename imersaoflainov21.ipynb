{
  "nbformat": 4,
  "nbformat_minor": 0,
  "metadata": {
    "colab": {
      "name": "imersaoflainov21",
      "provenance": [],
      "collapsed_sections": [],
      "authorship_tag": "ABX9TyMc3IbnvZqzmuta5yB002/f",
      "include_colab_link": true
    },
    "kernelspec": {
      "name": "python3",
      "display_name": "Python 3"
    },
    "language_info": {
      "name": "python"
    }
  },
  "cells": [
    {
      "cell_type": "markdown",
      "metadata": {
        "id": "view-in-github",
        "colab_type": "text"
      },
      "source": [
        "<a href=\"https://colab.research.google.com/github/christiany-s/dio-desafio-github-1/blob/main/imersaoflainov21.ipynb\" target=\"_parent\"><img src=\"https://colab.research.google.com/assets/colab-badge.svg\" alt=\"Open In Colab\"/></a>"
      ]
    },
    {
      "cell_type": "code",
      "metadata": {
        "id": "UGmdBDBZTDRb"
      },
      "source": [
        "!pip install pdfplumber\n",
        "import pdfpdfplumber\n",
        "import nlt                                                                                k\n"
      ],
      "execution_count": null,
      "outputs": []
    },
    {
      "cell_type": "code",
      "metadata": {
        "id": "uq0C1_oqVCw6"
      },
      "source": [
        "arquivoPDF=pdfplumber.open(\"/content/curriculo.pdf\")\n",
        "primeira.pagina=arquivoPDF.pages[0]\n",
        "textoCRU=primeira.pagina.extract_text()\n",
        "textoCRU"
      ],
      "execution_count": null,
      "outputs": []
    },
    {
      "cell_type": "code",
      "metadata": {
        "id": "hhhFgL8GWI3P"
      },
      "source": [
        "arquivoPDF.metadata"
      ],
      "execution_count": null,
      "outputs": []
    },
    {
      "cell_type": "code",
      "metadata": {
        "id": "4OWyIjXtWV_L"
      },
      "source": [
        "arquivoPDF.hiperlinks"
      ],
      "execution_count": null,
      "outputs": []
    },
    {
      "cell_type": "code",
      "metadata": {
        "id": "Gpsd1jt0WumS"
      },
      "source": [
        "print(textoCRU)"
      ],
      "execution_count": null,
      "outputs": []
    },
    {
      "cell_type": "markdown",
      "metadata": {
        "id": "QNlKFAd8XagQ"
      },
      "source": [
        "Pré Processamento do Texto"
      ]
    },
    {
      "cell_type": "code",
      "metadata": {
        "id": "NowoucNKXit1"
      },
      "source": [
        "nltk.download('punkt')\n",
        "listadepalavras=nldk.tokenize.work.tokenize(textoCRU)\n",
        "listadepalavvras"
      ],
      "execution_count": null,
      "outputs": []
    },
    {
      "cell_type": "code",
      "metadata": {
        "id": "fkB6SBt4YXj9"
      },
      "source": [
        "#padronizando as palavras com lowercase\n",
        "listadepalavras=[listadepalavras.lower() for palavras in listadepalavras]\n",
        "listadepalavras"
      ],
      "execution_count": null,
      "outputs": []
    },
    {
      "cell_type": "code",
      "metadata": {
        "id": "Av9H2rsPZDdr"
      },
      "source": [
        "#criando uma listade stop words de \"a\". \"de\". \"que\", \"um \", que não possue valor como palavras\n",
        "nltk.download()\n",
        "stop_words=nltk.corpus.stopwords.words('portuguese')\n",
        "stop_words"
      ],
      "execution_count": null,
      "outputs": []
    },
    {
      "cell_type": "code",
      "metadata": {
        "id": "VOhmAVixaITT"
      },
      "source": [
        "#criando uma lista de pontuação que gostaríamos de remover\n",
        "pontuacao=['(,)',':',';','[',']',',']"
      ],
      "execution_count": null,
      "outputs": []
    },
    {
      "cell_type": "code",
      "metadata": {
        "id": "b8oS32OkaV83"
      },
      "source": [
        "nltk.download()\n",
        "stop_words=nltk.corpus.stopwords.words('portuguese')\n",
        "stop.words\n",
        "  "
      ],
      "execution_count": null,
      "outputs": []
    },
    {
      "cell_type": "code",
      "metadata": {
        "id": "KCePf6-nc-J5"
      },
      "source": [
        "#numero de palavras das reviews\n",
        "len(keywords)"
      ],
      "execution_count": null,
      "outputs": []
    },
    {
      "cell_type": "code",
      "metadata": {
        "id": "4LUdTFe8dT6Y"
      },
      "source": [
        "#concatenar as palavras\n",
        "textocv=\".join(s for s in keywords\")\n",
        "textocv"
      ],
      "execution_count": null,
      "outputs": []
    },
    {
      "cell_type": "markdown",
      "metadata": {
        "id": "yWIrthz9gFaO"
      },
      "source": [
        "Gerar um workcloud"
      ]
    },
    {
      "cell_type": "code",
      "metadata": {
        "id": "Q51a_GzDgQr1"
      },
      "source": [
        "from wordcloun import wordCloud\n",
        "wordcloud=wordCloud(background_color='#0f54c9',max_font_size=150,widht=1280,height-720,colormap='Blues').generate(textocv)"
      ],
      "execution_count": null,
      "outputs": []
    },
    {
      "cell_type": "code",
      "metadata": {
        "id": "f9nPyB0xhn27"
      },
      "source": [
        "import matplotlib.plyplot as plt\n",
        "fg,ax=plt.subplots.figsize=(16,9))\n",
        "ax.inshow(wordcloud)\n",
        "ax.set_axis_off()\n",
        "plt.inshow(wordcloud)\n",
        "wordcloud.to_file('wordcloud.png')\n",
        "plt.show"
      ],
      "execution_count": null,
      "outputs": []
    },
    {
      "cell_type": "markdown",
      "metadata": {
        "id": "XYLlsP7zvuop"
      },
      "source": [
        "Trabalhando com planilha de vagas"
      ]
    },
    {
      "cell_type": "code",
      "metadata": {
        "id": "e01kPQ1fvyW8"
      },
      "source": [
        "import pandas as pd\n",
        "vagas=pd.read.excel('vagas.xls',sheet_name=None)"
      ],
      "execution_count": null,
      "outputs": []
    },
    {
      "cell_type": "code",
      "metadata": {
        "id": "vpYwfA9ww-kQ"
      },
      "source": [
        "n_vagas=len(vagas;keys())\n",
        "nome_vagas=list(vagas.keys())\n",
        "n_vagas"
      ],
      "execution_count": null,
      "outputs": []
    },
    {
      "cell_type": "code",
      "metadata": {
        "id": "SagUY9YZxw5E"
      },
      "source": [
        "3Transformando a saida numa lista de dataframes\n",
        "vagas=[vagas[nome_vagas[i]] for i  in range (n_vagas)]"
      ],
      "execution_count": null,
      "outputs": []
    },
    {
      "cell_type": "code",
      "metadata": {
        "id": "Cyic9Yi_yP9K"
      },
      "source": [
        "palavras_chaves= list(vagas1['palavra_chave'])\n",
        "palavras_chave"
      ],
      "execution_count": null,
      "outputs": []
    },
    {
      "cell_type": "code",
      "metadata": {
        "id": "fGKk2BfLyi14"
      },
      "source": [
        "pesos=list(vagas1['pesos'])\n",
        "pesos"
      ],
      "execution_count": null,
      "outputs": []
    },
    {
      "cell_type": "code",
      "metadata": {
        "id": "4F0iLgeMy05p"
      },
      "source": [
        "np.array(pesos)"
      ],
      "execution_count": null,
      "outputs": []
    },
    {
      "cell_type": "code",
      "metadata": {
        "id": "JLeMymqpy5aQ"
      },
      "source": [
        "import numpy as np\n",
        "limite=5\n",
        "pesos=list(vaga1['pesos'])\n",
        "palavras_chaves=list(vaga1['palavra-chave'])\n",
        "pmax=np.sum(np.array(pesos)*limite)\n",
        "print(nmax)"
      ],
      "execution_count": null,
      "outputs": []
    },
    {
      "cell_type": "code",
      "metadata": {
        "id": "MuroCqQ40p9H"
      },
      "source": [
        "count=[textocv.count(pc) for pc in palavras_chaves]\n",
        "cont"
      ],
      "execution_count": null,
      "outputs": []
    },
    {
      "cell_type": "code",
      "metadata": {
        "id": "yOWvRGYJ1KB5"
      },
      "source": [
        "def aux(x):\n",
        "  return x if x <=limite else limite\n",
        "  cont=[aux[i] for i in cont]\n",
        "  cont"
      ],
      "execution_count": null,
      "outputs": []
    },
    {
      "cell_type": "code",
      "metadata": {
        "id": "1pRuRCEH2GwO"
      },
      "source": [
        "score=np.array.(cont*pesos).sum()/pmax.round(4)\n",
        "score"
      ],
      "execution_count": null,
      "outputs": []
    },
    {
      "cell_type": "code",
      "metadata": {
        "id": "J3etwKik0qC9"
      },
      "source": [
        ""
      ],
      "execution_count": null,
      "outputs": []
    }
  ]
}